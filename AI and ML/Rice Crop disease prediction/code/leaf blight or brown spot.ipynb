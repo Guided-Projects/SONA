{
 "cells": [
  {
   "cell_type": "markdown",
   "metadata": {},
   "source": [
    "# Step 1: Import Required Libraries"
   ]
  },
  {
   "cell_type": "code",
   "execution_count": 1,
   "metadata": {},
   "outputs": [
    {
     "name": "stderr",
     "output_type": "stream",
     "text": [
      "C:\\ProgramData\\Anaconda3\\lib\\site-packages\\h5py\\__init__.py:36: FutureWarning: Conversion of the second argument of issubdtype from `float` to `np.floating` is deprecated. In future, it will be treated as `np.float64 == np.dtype(float).type`.\n",
      "  from ._conv import register_converters as _register_converters\n",
      "Using TensorFlow backend.\n"
     ]
    }
   ],
   "source": [
    "from keras.models import Sequential\n",
    "from keras.layers import Dense\n",
    "from keras.layers import Conv2D\n",
    "from keras.layers import MaxPooling2D\n",
    "from keras.layers import Flatten"
   ]
  },
  {
   "cell_type": "markdown",
   "metadata": {},
   "source": [
    "# step 2: Initialise the cnn model"
   ]
  },
  {
   "cell_type": "code",
   "execution_count": 2,
   "metadata": {},
   "outputs": [],
   "source": [
    "cnn_model=Sequential()"
   ]
  },
  {
   "cell_type": "markdown",
   "metadata": {},
   "source": [
    "# Step 3: Add Conv Layer"
   ]
  },
  {
   "cell_type": "code",
   "execution_count": 3,
   "metadata": {},
   "outputs": [
    {
     "name": "stderr",
     "output_type": "stream",
     "text": [
      "C:\\ProgramData\\Anaconda3\\lib\\site-packages\\ipykernel_launcher.py:1: UserWarning: Update your `Conv2D` call to the Keras 2 API: `Conv2D(32, (3, 3), input_shape=(64, 64, 3..., activation=\"relu\")`\n",
      "  \"\"\"Entry point for launching an IPython kernel.\n"
     ]
    }
   ],
   "source": [
    "cnn_model.add(Conv2D(32,3,3,input_shape=(64,64,3),activation=\"relu\"))"
   ]
  },
  {
   "cell_type": "markdown",
   "metadata": {},
   "source": [
    "# step 4: Add Pooling Layer\n"
   ]
  },
  {
   "cell_type": "code",
   "execution_count": 4,
   "metadata": {},
   "outputs": [],
   "source": [
    "cnn_model.add(MaxPooling2D(pool_size=(2,2)))"
   ]
  },
  {
   "cell_type": "markdown",
   "metadata": {},
   "source": [
    "# step 5 : Add Flatten Layer"
   ]
  },
  {
   "cell_type": "code",
   "execution_count": 5,
   "metadata": {},
   "outputs": [],
   "source": [
    "cnn_model.add(Flatten())"
   ]
  },
  {
   "cell_type": "markdown",
   "metadata": {},
   "source": [
    "# Full Connection\n"
   ]
  },
  {
   "cell_type": "markdown",
   "metadata": {},
   "source": [
    "# step 6: Add Hidden Layer"
   ]
  },
  {
   "cell_type": "code",
   "execution_count": 6,
   "metadata": {},
   "outputs": [
    {
     "name": "stderr",
     "output_type": "stream",
     "text": [
      "C:\\ProgramData\\Anaconda3\\lib\\site-packages\\ipykernel_launcher.py:1: UserWarning: Update your `Dense` call to the Keras 2 API: `Dense(activation=\"relu\", units=120, kernel_initializer=\"random_uniform\")`\n",
      "  \"\"\"Entry point for launching an IPython kernel.\n"
     ]
    }
   ],
   "source": [
    "cnn_model.add(Dense(init=\"random_uniform\",activation=\"relu\",output_dim=120))"
   ]
  },
  {
   "cell_type": "code",
   "execution_count": null,
   "metadata": {},
   "outputs": [],
   "source": []
  },
  {
   "cell_type": "markdown",
   "metadata": {},
   "source": [
    "# add output layer"
   ]
  },
  {
   "cell_type": "code",
   "execution_count": 7,
   "metadata": {},
   "outputs": [
    {
     "name": "stderr",
     "output_type": "stream",
     "text": [
      "C:\\ProgramData\\Anaconda3\\lib\\site-packages\\ipykernel_launcher.py:1: UserWarning: Update your `Dense` call to the Keras 2 API: `Dense(activation=\"sigmoid\", units=1, kernel_initializer=\"random_uniform\")`\n",
      "  \"\"\"Entry point for launching an IPython kernel.\n"
     ]
    }
   ],
   "source": [
    "cnn_model.add(Dense(init=\"random_uniform\",activation=\"sigmoid\",output_dim=1))"
   ]
  },
  {
   "cell_type": "markdown",
   "metadata": {},
   "source": [
    "# compile the model"
   ]
  },
  {
   "cell_type": "code",
   "execution_count": 8,
   "metadata": {},
   "outputs": [],
   "source": [
    "cnn_model.compile(optimizer=\"adam\",loss=\"binary_crossentropy\",metrics=['accuracy'])"
   ]
  },
  {
   "cell_type": "code",
   "execution_count": 9,
   "metadata": {},
   "outputs": [],
   "source": [
    "from keras.preprocessing.image import ImageDataGenerator\n",
    "train_datagen = ImageDataGenerator(\n",
    "        rescale=1./255,\n",
    "        shear_range=0.2,\n",
    "        zoom_range=0.2,\n",
    "        horizontal_flip=True)"
   ]
  },
  {
   "cell_type": "code",
   "execution_count": 10,
   "metadata": {},
   "outputs": [],
   "source": [
    "test_datagen=ImageDataGenerator(rescale=1./255)\n"
   ]
  },
  {
   "cell_type": "code",
   "execution_count": 11,
   "metadata": {},
   "outputs": [
    {
     "name": "stdout",
     "output_type": "stream",
     "text": [
      "Found 500 images belonging to 2 classes.\n"
     ]
    }
   ],
   "source": [
    "x_train = train_datagen.flow_from_directory(\n",
    "        'dataset1/training_set',\n",
    "        target_size=(64, 64),\n",
    "        batch_size=32,\n",
    "        class_mode='binary')"
   ]
  },
  {
   "cell_type": "code",
   "execution_count": 12,
   "metadata": {},
   "outputs": [
    {
     "name": "stdout",
     "output_type": "stream",
     "text": [
      "Found 99 images belonging to 2 classes.\n"
     ]
    }
   ],
   "source": [
    "x_test = test_datagen.flow_from_directory(\n",
    "        'dataset1/test_set',\n",
    "        target_size=(64, 64),\n",
    "        batch_size=32,\n",
    "        class_mode='binary')"
   ]
  },
  {
   "cell_type": "code",
   "execution_count": 13,
   "metadata": {},
   "outputs": [
    {
     "data": {
      "text/plain": [
       "{'Bacterial leaf blight': 0, 'Brown spot': 1}"
      ]
     },
     "execution_count": 13,
     "metadata": {},
     "output_type": "execute_result"
    }
   ],
   "source": [
    "x_train.class_indices"
   ]
  },
  {
   "cell_type": "code",
   "execution_count": 14,
   "metadata": {},
   "outputs": [
    {
     "name": "stdout",
     "output_type": "stream",
     "text": [
      "Epoch 1/35\n",
      "16/16 [==============================] - 5s 282ms/step - loss: 0.7100 - acc: 0.5458 - val_loss: 0.6624 - val_acc: 0.5417\n",
      "Epoch 2/35\n",
      "16/16 [==============================] - 4s 272ms/step - loss: 0.6771 - acc: 0.5785 - val_loss: 0.6571 - val_acc: 0.5821\n",
      "Epoch 3/35\n",
      "16/16 [==============================] - 5s 284ms/step - loss: 0.6405 - acc: 0.6589 - val_loss: 0.5863 - val_acc: 0.7164\n",
      "Epoch 4/35\n",
      "16/16 [==============================] - 4s 257ms/step - loss: 0.6074 - acc: 0.6685 - val_loss: 0.6178 - val_acc: 0.6716\n",
      "Epoch 5/35\n",
      "16/16 [==============================] - 4s 268ms/step - loss: 0.5976 - acc: 0.6637 - val_loss: 0.5640 - val_acc: 0.7292\n",
      "Epoch 6/35\n",
      "16/16 [==============================] - 4s 273ms/step - loss: 0.5717 - acc: 0.6978 - val_loss: 0.5149 - val_acc: 0.7612\n",
      "Epoch 7/35\n",
      "16/16 [==============================] - 4s 277ms/step - loss: 0.5473 - acc: 0.7265 - val_loss: 0.4484 - val_acc: 0.7910\n",
      "Epoch 8/35\n",
      "16/16 [==============================] - 4s 266ms/step - loss: 0.5631 - acc: 0.6933 - val_loss: 0.5301 - val_acc: 0.7612\n",
      "Epoch 9/35\n",
      "16/16 [==============================] - 4s 264ms/step - loss: 0.5559 - acc: 0.7285 - val_loss: 0.4732 - val_acc: 0.8333\n",
      "Epoch 10/35\n",
      "16/16 [==============================] - 4s 268ms/step - loss: 0.5143 - acc: 0.7550 - val_loss: 0.4187 - val_acc: 0.7910\n",
      "Epoch 11/35\n",
      "16/16 [==============================] - 4s 273ms/step - loss: 0.4945 - acc: 0.7833 - val_loss: 0.4634 - val_acc: 0.8358\n",
      "Epoch 12/35\n",
      "16/16 [==============================] - 4s 257ms/step - loss: 0.4515 - acc: 0.7939 - val_loss: 0.3359 - val_acc: 0.8806\n",
      "Epoch 13/35\n",
      "16/16 [==============================] - 4s 273ms/step - loss: 0.4401 - acc: 0.8022 - val_loss: 0.3701 - val_acc: 0.8542\n",
      "Epoch 14/35\n",
      "16/16 [==============================] - 4s 268ms/step - loss: 0.4385 - acc: 0.7986 - val_loss: 0.2757 - val_acc: 0.9254\n",
      "Epoch 15/35\n",
      "16/16 [==============================] - 4s 259ms/step - loss: 0.4075 - acc: 0.8226 - val_loss: 0.4533 - val_acc: 0.8060\n",
      "Epoch 16/35\n",
      "16/16 [==============================] - 4s 265ms/step - loss: 0.4097 - acc: 0.8048 - val_loss: 0.3302 - val_acc: 0.8806\n",
      "Epoch 17/35\n",
      "16/16 [==============================] - 4s 268ms/step - loss: 0.3590 - acc: 0.8500 - val_loss: 0.2849 - val_acc: 0.9062\n",
      "Epoch 18/35\n",
      "16/16 [==============================] - 4s 279ms/step - loss: 0.3983 - acc: 0.8400 - val_loss: 0.3037 - val_acc: 0.8955\n",
      "Epoch 19/35\n",
      "16/16 [==============================] - 4s 271ms/step - loss: 0.3458 - acc: 0.8469 - val_loss: 0.1916 - val_acc: 0.9403\n",
      "Epoch 20/35\n",
      "16/16 [==============================] - 4s 252ms/step - loss: 0.3514 - acc: 0.8433 - val_loss: 0.2290 - val_acc: 0.9403\n",
      "Epoch 21/35\n",
      "16/16 [==============================] - 4s 269ms/step - loss: 0.3474 - acc: 0.8637 - val_loss: 0.1889 - val_acc: 0.9583\n",
      "Epoch 22/35\n",
      "16/16 [==============================] - 4s 271ms/step - loss: 0.3605 - acc: 0.8400 - val_loss: 0.2055 - val_acc: 0.9254\n",
      "Epoch 23/35\n",
      "16/16 [==============================] - 4s 265ms/step - loss: 0.3259 - acc: 0.8656 - val_loss: 0.1867 - val_acc: 0.9403\n",
      "Epoch 24/35\n",
      "16/16 [==============================] - 4s 255ms/step - loss: 0.2728 - acc: 0.9000 - val_loss: 0.1570 - val_acc: 0.9552\n",
      "Epoch 25/35\n",
      "16/16 [==============================] - 4s 259ms/step - loss: 0.2605 - acc: 0.8950 - val_loss: 0.1886 - val_acc: 0.9375\n",
      "Epoch 26/35\n",
      "16/16 [==============================] - 4s 275ms/step - loss: 0.2633 - acc: 0.8905 - val_loss: 0.1069 - val_acc: 0.9701\n",
      "Epoch 27/35\n",
      "16/16 [==============================] - 4s 259ms/step - loss: 0.2679 - acc: 0.8793 - val_loss: 0.2298 - val_acc: 0.9104\n",
      "Epoch 28/35\n",
      "16/16 [==============================] - 4s 261ms/step - loss: 0.2549 - acc: 0.8900 - val_loss: 0.1793 - val_acc: 0.9403\n",
      "Epoch 29/35\n",
      "16/16 [==============================] - 4s 267ms/step - loss: 0.2498 - acc: 0.8978 - val_loss: 0.1213 - val_acc: 0.9583\n",
      "Epoch 30/35\n",
      "16/16 [==============================] - 4s 269ms/step - loss: 0.2457 - acc: 0.9109 - val_loss: 0.2523 - val_acc: 0.9254\n",
      "Epoch 31/35\n",
      "16/16 [==============================] - 4s 267ms/step - loss: 0.2322 - acc: 0.9187 - val_loss: 0.1015 - val_acc: 0.9701\n",
      "Epoch 32/35\n",
      "16/16 [==============================] - 4s 258ms/step - loss: 0.2213 - acc: 0.9067 - val_loss: 0.0920 - val_acc: 0.9701\n",
      "Epoch 33/35\n",
      "16/16 [==============================] - 4s 275ms/step - loss: 0.2505 - acc: 0.8880 - val_loss: 0.1021 - val_acc: 0.9583\n",
      "Epoch 34/35\n",
      "16/16 [==============================] - 4s 276ms/step - loss: 0.2006 - acc: 0.9265 - val_loss: 0.1540 - val_acc: 0.9552\n",
      "Epoch 35/35\n",
      "16/16 [==============================] - 4s 264ms/step - loss: 0.2394 - acc: 0.9059 - val_loss: 0.0836 - val_acc: 0.9701\n"
     ]
    },
    {
     "data": {
      "text/plain": [
       "<keras.callbacks.History at 0xcddfac8>"
      ]
     },
     "execution_count": 14,
     "metadata": {},
     "output_type": "execute_result"
    }
   ],
   "source": [
    "cnn_model.fit_generator(\n",
    "        x_train,\n",
    "        steps_per_epoch=16,\n",
    "        epochs=35,\n",
    "        validation_data=x_test,\n",
    "        validation_steps=3)"
   ]
  },
  {
   "cell_type": "code",
   "execution_count": 15,
   "metadata": {},
   "outputs": [],
   "source": [
    "cnn_model.save(\"final.h5\")"
   ]
  },
  {
   "cell_type": "code",
   "execution_count": null,
   "metadata": {},
   "outputs": [],
   "source": []
  }
 ],
 "metadata": {
  "kernelspec": {
   "display_name": "Python 3",
   "language": "python",
   "name": "python3"
  },
  "language_info": {
   "codemirror_mode": {
    "name": "ipython",
    "version": 3
   },
   "file_extension": ".py",
   "mimetype": "text/x-python",
   "name": "python",
   "nbconvert_exporter": "python",
   "pygments_lexer": "ipython3",
   "version": "3.6.5"
  }
 },
 "nbformat": 4,
 "nbformat_minor": 2
}
