{
 "cells": [
  {
   "cell_type": "code",
   "execution_count": 1,
   "metadata": {},
   "outputs": [],
   "source": [
    "import pandas as  pd\n",
    "\n",
    "import numpy as np\n",
    "\n",
    "import matplotlib.pyplot as plt\n"
   ]
  },
  {
   "cell_type": "code",
   "execution_count": 2,
   "metadata": {},
   "outputs": [],
   "source": [
    "# UPLOADING DATA\n",
    "\n",
    "ds=pd.read_csv(r\"C:\\Users\\test01\\Desktop\\AI\\New folder\\data.csv\")"
   ]
  },
  {
   "cell_type": "code",
   "execution_count": 3,
   "metadata": {},
   "outputs": [
    {
     "data": {
      "text/plain": [
       "layer_height          False\n",
       "wall_thickness        False\n",
       "infill_density        False\n",
       "infill_pattern        False\n",
       "nozzle_temperature    False\n",
       "bed_temperature       False\n",
       "print_speed           False\n",
       "material              False\n",
       "fan_speed             False\n",
       "roughness             False\n",
       "tension_strenght      False\n",
       "elongation            False\n",
       "dtype: bool"
      ]
     },
     "execution_count": 3,
     "metadata": {},
     "output_type": "execute_result"
    }
   ],
   "source": [
    "ds.isnull().any()"
   ]
  },
  {
   "cell_type": "code",
   "execution_count": 4,
   "metadata": {},
   "outputs": [],
   "source": [
    "from sklearn.preprocessing import LabelEncoder\n",
    "\n",
    "lb=LabelEncoder()\n",
    "\n",
    "ds=ds.iloc[:,:].values\n",
    "\n"
   ]
  },
  {
   "cell_type": "code",
   "execution_count": 5,
   "metadata": {},
   "outputs": [],
   "source": [
    "ds[:,3]=lb.fit_transform(ds[:,3])\n",
    "\n",
    "ds[:,7]=lb.fit_transform(ds[:,7])"
   ]
  },
  {
   "cell_type": "code",
   "execution_count": 6,
   "metadata": {},
   "outputs": [],
   "source": [
    "da=pd.DataFrame(ds)"
   ]
  },
  {
   "cell_type": "code",
   "execution_count": 7,
   "metadata": {},
   "outputs": [],
   "source": [
    "y=ds[:,7]\n",
    "\n",
    "y=y.astype(\"int\")"
   ]
  },
  {
   "cell_type": "code",
   "execution_count": 8,
   "metadata": {},
   "outputs": [],
   "source": [
    "\n",
    "da.drop(columns=7,inplace=True)\n"
   ]
  },
  {
   "cell_type": "code",
   "execution_count": 9,
   "metadata": {},
   "outputs": [
    {
     "data": {
      "text/plain": [
       "array([[0.02, 8.0, 90, 0, 220, 60, 40, 0, 25, 18, 1.2],\n",
       "       [0.02, 7.0, 90, 1, 225, 65, 40, 25, 32, 16, 1.4],\n",
       "       [0.02, 1.0, 80, 0, 230, 70, 40, 50, 40, 8, 0.8],\n",
       "       [0.02, 4.0, 70, 1, 240, 75, 40, 75, 68, 10, 0.5],\n",
       "       [0.02, 6.0, 90, 0, 250, 80, 40, 100, 92, 5, 0.7],\n",
       "       [0.02, 10.0, 40, 1, 200, 60, 40, 0, 60, 24, 1.1],\n",
       "       [0.02, 8.0, 90, 0, 250, 100, 40, 100, 98, 5, 0.95],\n",
       "       [0.02, 10.0, 10, 1, 210, 70, 40, 50, 21, 14, 1.5],\n",
       "       [0.02, 9.0, 70, 0, 215, 75, 40, 75, 24, 27, 1.4],\n",
       "       [0.02, 8.0, 40, 1, 220, 80, 40, 100, 30, 25, 1.7],\n",
       "       [0.06, 6.0, 80, 0, 220, 60, 60, 0, 75, 37, 2.4],\n",
       "       [0.06, 2.0, 20, 1, 225, 65, 60, 25, 92, 12, 1.4],\n",
       "       [0.06, 10.0, 50, 0, 230, 70, 60, 50, 118, 16, 1.3],\n",
       "       [0.06, 6.0, 10, 1, 240, 75, 60, 75, 200, 9, 0.8],\n",
       "       [0.06, 3.0, 50, 0, 250, 80, 60, 100, 220, 10, 1.0],\n",
       "       [0.06, 10.0, 90, 1, 200, 60, 60, 0, 126, 27, 2.2],\n",
       "       [0.06, 3.0, 40, 0, 205, 65, 60, 25, 145, 23, 1.9],\n",
       "       [0.06, 8.0, 30, 1, 210, 70, 60, 50, 88, 26, 1.6],\n",
       "       [0.06, 5.0, 90, 0, 215, 95, 60, 75, 92, 38, 2.2],\n",
       "       [0.06, 10.0, 50, 1, 220, 80, 60, 100, 74, 29, 2.0],\n",
       "       [0.1, 1.0, 40, 0, 220, 60, 120, 0, 120, 16, 1.2],\n",
       "       [0.1, 2.0, 30, 1, 225, 65, 120, 25, 144, 12, 1.1],\n",
       "       [0.1, 1.0, 50, 0, 230, 70, 120, 50, 265, 10, 0.9],\n",
       "       [0.1, 9.0, 80, 1, 240, 75, 120, 75, 312, 19, 0.8],\n",
       "       [0.1, 2.0, 60, 0, 250, 80, 120, 100, 368, 8, 0.4],\n",
       "       [0.1, 1.0, 50, 1, 200, 60, 120, 0, 180, 11, 1.6],\n",
       "       [0.1, 4.0, 40, 0, 205, 65, 120, 25, 176, 12, 1.2],\n",
       "       [0.1, 3.0, 50, 1, 210, 70, 120, 50, 128, 18, 1.8],\n",
       "       [0.1, 4.0, 90, 0, 215, 75, 120, 75, 138, 34, 2.9],\n",
       "       [0.09, 8.0, 60, 1, 210, 70, 60, 50, 98, 26, 1.6],\n",
       "       [0.15, 4.0, 50, 0, 220, 60, 60, 0, 168, 27, 2.4],\n",
       "       [0.15, 7.0, 10, 1, 225, 65, 60, 25, 154, 19, 1.8],\n",
       "       [0.15, 6.0, 50, 0, 230, 70, 60, 50, 225, 18, 1.4],\n",
       "       [0.15, 1.0, 50, 1, 240, 75, 60, 75, 289, 9, 0.6],\n",
       "       [0.15, 7.0, 80, 0, 250, 80, 60, 100, 326, 13, 0.7],\n",
       "       [0.15, 3.0, 80, 1, 200, 60, 60, 0, 192, 33, 2.8],\n",
       "       [0.15, 4.0, 50, 0, 205, 65, 60, 25, 212, 24, 1.8],\n",
       "       [0.15, 10.0, 30, 1, 210, 70, 60, 50, 168, 26, 2.1],\n",
       "       [0.15, 6.0, 40, 0, 215, 75, 60, 75, 172, 22, 2.3],\n",
       "       [0.15, 1.0, 10, 1, 220, 80, 60, 100, 163, 4, 0.7],\n",
       "       [0.2, 4.0, 80, 0, 220, 60, 40, 0, 212, 35, 3.3],\n",
       "       [0.2, 9.0, 90, 1, 225, 65, 40, 25, 276, 34, 3.1],\n",
       "       [0.2, 7.0, 30, 0, 230, 70, 40, 50, 298, 28, 2.2],\n",
       "       [0.2, 6.0, 90, 1, 240, 75, 40, 75, 360, 28, 1.6],\n",
       "       [0.2, 3.0, 80, 0, 250, 80, 40, 100, 357, 21, 1.1],\n",
       "       [0.2, 5.0, 60, 1, 200, 60, 40, 0, 321, 28, 2.7],\n",
       "       [0.2, 4.0, 20, 0, 205, 65, 40, 25, 265, 14, 1.8],\n",
       "       [0.2, 5.0, 60, 1, 210, 70, 40, 50, 278, 30, 3.2],\n",
       "       [0.2, 7.0, 40, 0, 215, 75, 40, 75, 244, 29, 3.2],\n",
       "       [0.2, 3.0, 60, 1, 220, 80, 40, 100, 220, 27, 3.1],\n",
       "       [0.03, 8.0, 90, 0, 220, 60, 40, 0, 25, 18, 1.2],\n",
       "       [0.03, 10.0, 20, 1, 220, 60, 60, 0, 75, 37, 2.4],\n",
       "       [0.02, 6.0, 10, 0, 205, 65, 40, 25, 55, 12, 1.3],\n",
       "       [0.06, 10.0, 100, 1, 200, 60, 60, 0, 126, 27, 2.2],\n",
       "       [0.02, 6.0, 12, 0, 205, 65, 40, 28, 55, 12, 1.8],\n",
       "       [0.1, 6.0, 80, 1, 250, 75, 120, 75, 312, 19, 0.8],\n",
       "       [0.1, 4.0, 95, 0, 220, 75, 120, 100, 121, 14, 1.5],\n",
       "       [0.15, 3.0, 10, 1, 225, 65, 70, 25, 154, 19, 1.8],\n",
       "       [0.15, 7.0, 50, 0, 230, 70, 60, 50, 225, 18, 1.4],\n",
       "       [0.15, 3.0, 85, 1, 220, 60, 60, 0, 192, 33, 2.8],\n",
       "       [0.06, 12.0, 50, 1, 230, 80, 65, 100, 74, 29, 2.1],\n",
       "       [0.06, 9.0, 10, 1, 200, 75, 80, 75, 200, 9, 0.9],\n",
       "       [0.04, 2.0, 80, 0, 230, 70, 40, 50, 40, 12, 0.8],\n",
       "       [0.02, 4.5, 70, 1, 240, 85, 40, 75, 68, 10, 0.8],\n",
       "       [0.05, 6.0, 10, 1, 245, 75, 85, 75, 205, 5, 0.5],\n",
       "       [0.15, 1.0, 50, 0, 220, 60, 120, 0, 120, 16, 1.5]], dtype=object)"
      ]
     },
     "execution_count": 9,
     "metadata": {},
     "output_type": "execute_result"
    }
   ],
   "source": [
    "x=da.iloc[:,:].values\n",
    "\n",
    "x"
   ]
  },
  {
   "cell_type": "code",
   "execution_count": 10,
   "metadata": {},
   "outputs": [],
   "source": [
    "# TRAIN TEST SPLIT\n",
    "\n",
    "from sklearn.model_selection import train_test_split\n",
    "\n",
    "x_train,x_test,y_train,y_test=train_test_split(x,y,test_size=0.2,random_state=0)\n"
   ]
  },
  {
   "cell_type": "code",
   "execution_count": 11,
   "metadata": {},
   "outputs": [],
   "source": [
    "# FEATURE SCALING\n",
    "\n",
    "from sklearn.preprocessing import MinMaxScaler\n",
    "\n",
    "sc=MinMaxScaler()\n",
    "\n"
   ]
  },
  {
   "cell_type": "code",
   "execution_count": 12,
   "metadata": {},
   "outputs": [
    {
     "data": {
      "text/plain": [
       "array([[0.15, 1.0, 50, 0, 220, 60, 120, 0, 120, 16, 1.5],\n",
       "       [0.02, 1.0, 80, 0, 230, 70, 40, 50, 40, 8, 0.8],\n",
       "       [0.06, 2.0, 20, 1, 225, 65, 60, 25, 92, 12, 1.4],\n",
       "       [0.15, 4.0, 50, 0, 220, 60, 60, 0, 168, 27, 2.4],\n",
       "       [0.06, 6.0, 80, 0, 220, 60, 60, 0, 75, 37, 2.4],\n",
       "       [0.1, 1.0, 50, 0, 230, 70, 120, 50, 265, 10, 0.9],\n",
       "       [0.2, 9.0, 90, 1, 225, 65, 40, 25, 276, 34, 3.1],\n",
       "       [0.05, 6.0, 10, 1, 245, 75, 85, 75, 205, 5, 0.5],\n",
       "       [0.15, 6.0, 50, 0, 230, 70, 60, 50, 225, 18, 1.4],\n",
       "       [0.02, 10.0, 10, 1, 210, 70, 40, 50, 21, 14, 1.5],\n",
       "       [0.06, 3.0, 50, 0, 250, 80, 60, 100, 220, 10, 1.0],\n",
       "       [0.1, 4.0, 40, 0, 205, 65, 120, 25, 176, 12, 1.2],\n",
       "       [0.1, 3.0, 50, 1, 210, 70, 120, 50, 128, 18, 1.8],\n",
       "       [0.1, 4.0, 95, 0, 220, 75, 120, 100, 121, 14, 1.5],\n",
       "       [0.2, 7.0, 30, 0, 230, 70, 40, 50, 298, 28, 2.2],\n",
       "       [0.2, 6.0, 90, 1, 240, 75, 40, 75, 360, 28, 1.6],\n",
       "       [0.06, 12.0, 50, 1, 230, 80, 65, 100, 74, 29, 2.1],\n",
       "       [0.06, 5.0, 90, 0, 215, 95, 60, 75, 92, 38, 2.2],\n",
       "       [0.04, 2.0, 80, 0, 230, 70, 40, 50, 40, 12, 0.8],\n",
       "       [0.06, 10.0, 90, 1, 200, 60, 60, 0, 126, 27, 2.2],\n",
       "       [0.02, 10.0, 40, 1, 200, 60, 40, 0, 60, 24, 1.1],\n",
       "       [0.06, 3.0, 40, 0, 205, 65, 60, 25, 145, 23, 1.9],\n",
       "       [0.1, 1.0, 40, 0, 220, 60, 120, 0, 120, 16, 1.2],\n",
       "       [0.15, 3.0, 10, 1, 225, 65, 70, 25, 154, 19, 1.8],\n",
       "       [0.02, 9.0, 70, 0, 215, 75, 40, 75, 24, 27, 1.4],\n",
       "       [0.06, 6.0, 10, 1, 240, 75, 60, 75, 200, 9, 0.8],\n",
       "       [0.1, 1.0, 50, 1, 200, 60, 120, 0, 180, 11, 1.6],\n",
       "       [0.15, 10.0, 30, 1, 210, 70, 60, 50, 168, 26, 2.1],\n",
       "       [0.06, 8.0, 30, 1, 210, 70, 60, 50, 88, 26, 1.6],\n",
       "       [0.2, 3.0, 60, 1, 220, 80, 40, 100, 220, 27, 3.1],\n",
       "       [0.02, 6.0, 10, 0, 205, 65, 40, 25, 55, 12, 1.3],\n",
       "       [0.15, 7.0, 50, 0, 230, 70, 60, 50, 225, 18, 1.4],\n",
       "       [0.15, 6.0, 40, 0, 215, 75, 60, 75, 172, 22, 2.3],\n",
       "       [0.02, 7.0, 90, 1, 225, 65, 40, 25, 32, 16, 1.4],\n",
       "       [0.06, 10.0, 50, 0, 230, 70, 60, 50, 118, 16, 1.3],\n",
       "       [0.02, 6.0, 12, 0, 205, 65, 40, 28, 55, 12, 1.8],\n",
       "       [0.1, 2.0, 60, 0, 250, 80, 120, 100, 368, 8, 0.4],\n",
       "       [0.02, 8.0, 90, 0, 250, 100, 40, 100, 98, 5, 0.95],\n",
       "       [0.1, 9.0, 80, 1, 240, 75, 120, 75, 312, 19, 0.8],\n",
       "       [0.15, 4.0, 50, 0, 205, 65, 60, 25, 212, 24, 1.8],\n",
       "       [0.03, 8.0, 90, 0, 220, 60, 40, 0, 25, 18, 1.2],\n",
       "       [0.1, 2.0, 30, 1, 225, 65, 120, 25, 144, 12, 1.1],\n",
       "       [0.06, 10.0, 50, 1, 220, 80, 60, 100, 74, 29, 2.0],\n",
       "       [0.02, 8.0, 40, 1, 220, 80, 40, 100, 30, 25, 1.7],\n",
       "       [0.15, 1.0, 10, 1, 220, 80, 60, 100, 163, 4, 0.7],\n",
       "       [0.06, 9.0, 10, 1, 200, 75, 80, 75, 200, 9, 0.9],\n",
       "       [0.15, 3.0, 85, 1, 220, 60, 60, 0, 192, 33, 2.8],\n",
       "       [0.02, 4.0, 70, 1, 240, 75, 40, 75, 68, 10, 0.5],\n",
       "       [0.02, 8.0, 90, 0, 220, 60, 40, 0, 25, 18, 1.2],\n",
       "       [0.06, 10.0, 100, 1, 200, 60, 60, 0, 126, 27, 2.2],\n",
       "       [0.2, 5.0, 60, 1, 210, 70, 40, 50, 278, 30, 3.2],\n",
       "       [0.2, 3.0, 80, 0, 250, 80, 40, 100, 357, 21, 1.1]], dtype=object)"
      ]
     },
     "execution_count": 12,
     "metadata": {},
     "output_type": "execute_result"
    }
   ],
   "source": [
    "x_train\n",
    "\n"
   ]
  },
  {
   "cell_type": "code",
   "execution_count": 13,
   "metadata": {},
   "outputs": [
    {
     "name": "stderr",
     "output_type": "stream",
     "text": [
      "C:\\ProgramData\\Anaconda3\\lib\\site-packages\\sklearn\\utils\\validation.py:475: DataConversionWarning: Data with input dtype object was converted to float64 by MinMaxScaler.\n",
      "  warnings.warn(msg, DataConversionWarning)\n"
     ]
    }
   ],
   "source": [
    "x_train=sc.fit_transform(x_train)\n",
    "\n"
   ]
  },
  {
   "cell_type": "code",
   "execution_count": 14,
   "metadata": {},
   "outputs": [
    {
     "data": {
      "text/plain": [
       "array([[0.72222222, 0.        , 0.44444444, 0.        , 0.4       ,\n",
       "        0.        , 1.        , 0.        , 0.28530259, 0.35294118,\n",
       "        0.39285714],\n",
       "       [0.        , 0.        , 0.77777778, 0.        , 0.6       ,\n",
       "        0.25      , 0.        , 0.5       , 0.05475504, 0.11764706,\n",
       "        0.14285714],\n",
       "       [0.22222222, 0.09090909, 0.11111111, 1.        , 0.5       ,\n",
       "        0.125     , 0.25      , 0.25      , 0.20461095, 0.23529412,\n",
       "        0.35714286],\n",
       "       [0.72222222, 0.27272727, 0.44444444, 0.        , 0.4       ,\n",
       "        0.        , 0.25      , 0.        , 0.42363112, 0.67647059,\n",
       "        0.71428571],\n",
       "       [0.22222222, 0.45454545, 0.77777778, 0.        , 0.4       ,\n",
       "        0.        , 0.25      , 0.        , 0.1556196 , 0.97058824,\n",
       "        0.71428571],\n",
       "       [0.44444444, 0.        , 0.44444444, 0.        , 0.6       ,\n",
       "        0.25      , 1.        , 0.5       , 0.70317003, 0.17647059,\n",
       "        0.17857143],\n",
       "       [1.        , 0.72727273, 0.88888889, 1.        , 0.5       ,\n",
       "        0.125     , 0.        , 0.25      , 0.73487032, 0.88235294,\n",
       "        0.96428571],\n",
       "       [0.16666667, 0.45454545, 0.        , 1.        , 0.9       ,\n",
       "        0.375     , 0.5625    , 0.75      , 0.53025937, 0.02941176,\n",
       "        0.03571429],\n",
       "       [0.72222222, 0.45454545, 0.44444444, 0.        , 0.6       ,\n",
       "        0.25      , 0.25      , 0.5       , 0.58789625, 0.41176471,\n",
       "        0.35714286],\n",
       "       [0.        , 0.81818182, 0.        , 1.        , 0.2       ,\n",
       "        0.25      , 0.        , 0.5       , 0.        , 0.29411765,\n",
       "        0.39285714],\n",
       "       [0.22222222, 0.18181818, 0.44444444, 0.        , 1.        ,\n",
       "        0.5       , 0.25      , 1.        , 0.57348703, 0.17647059,\n",
       "        0.21428571],\n",
       "       [0.44444444, 0.27272727, 0.33333333, 0.        , 0.1       ,\n",
       "        0.125     , 1.        , 0.25      , 0.44668588, 0.23529412,\n",
       "        0.28571429],\n",
       "       [0.44444444, 0.18181818, 0.44444444, 1.        , 0.2       ,\n",
       "        0.25      , 1.        , 0.5       , 0.30835735, 0.41176471,\n",
       "        0.5       ],\n",
       "       [0.44444444, 0.27272727, 0.94444444, 0.        , 0.4       ,\n",
       "        0.375     , 1.        , 1.        , 0.28818444, 0.29411765,\n",
       "        0.39285714],\n",
       "       [1.        , 0.54545455, 0.22222222, 0.        , 0.6       ,\n",
       "        0.25      , 0.        , 0.5       , 0.79827089, 0.70588235,\n",
       "        0.64285714],\n",
       "       [1.        , 0.45454545, 0.88888889, 1.        , 0.8       ,\n",
       "        0.375     , 0.        , 0.75      , 0.97694524, 0.70588235,\n",
       "        0.42857143],\n",
       "       [0.22222222, 1.        , 0.44444444, 1.        , 0.6       ,\n",
       "        0.5       , 0.3125    , 1.        , 0.15273775, 0.73529412,\n",
       "        0.60714286],\n",
       "       [0.22222222, 0.36363636, 0.88888889, 0.        , 0.3       ,\n",
       "        0.875     , 0.25      , 0.75      , 0.20461095, 1.        ,\n",
       "        0.64285714],\n",
       "       [0.11111111, 0.09090909, 0.77777778, 0.        , 0.6       ,\n",
       "        0.25      , 0.        , 0.5       , 0.05475504, 0.23529412,\n",
       "        0.14285714],\n",
       "       [0.22222222, 0.81818182, 0.88888889, 1.        , 0.        ,\n",
       "        0.        , 0.25      , 0.        , 0.30259366, 0.67647059,\n",
       "        0.64285714],\n",
       "       [0.        , 0.81818182, 0.33333333, 1.        , 0.        ,\n",
       "        0.        , 0.        , 0.        , 0.11239193, 0.58823529,\n",
       "        0.25      ],\n",
       "       [0.22222222, 0.18181818, 0.33333333, 0.        , 0.1       ,\n",
       "        0.125     , 0.25      , 0.25      , 0.3573487 , 0.55882353,\n",
       "        0.53571429],\n",
       "       [0.44444444, 0.        , 0.33333333, 0.        , 0.4       ,\n",
       "        0.        , 1.        , 0.        , 0.28530259, 0.35294118,\n",
       "        0.28571429],\n",
       "       [0.72222222, 0.18181818, 0.        , 1.        , 0.5       ,\n",
       "        0.125     , 0.375     , 0.25      , 0.3832853 , 0.44117647,\n",
       "        0.5       ],\n",
       "       [0.        , 0.72727273, 0.66666667, 0.        , 0.3       ,\n",
       "        0.375     , 0.        , 0.75      , 0.00864553, 0.67647059,\n",
       "        0.35714286],\n",
       "       [0.22222222, 0.45454545, 0.        , 1.        , 0.8       ,\n",
       "        0.375     , 0.25      , 0.75      , 0.51585014, 0.14705882,\n",
       "        0.14285714],\n",
       "       [0.44444444, 0.        , 0.44444444, 1.        , 0.        ,\n",
       "        0.        , 1.        , 0.        , 0.45821326, 0.20588235,\n",
       "        0.42857143],\n",
       "       [0.72222222, 0.81818182, 0.22222222, 1.        , 0.2       ,\n",
       "        0.25      , 0.25      , 0.5       , 0.42363112, 0.64705882,\n",
       "        0.60714286],\n",
       "       [0.22222222, 0.63636364, 0.22222222, 1.        , 0.2       ,\n",
       "        0.25      , 0.25      , 0.5       , 0.19308357, 0.64705882,\n",
       "        0.42857143],\n",
       "       [1.        , 0.18181818, 0.55555556, 1.        , 0.4       ,\n",
       "        0.5       , 0.        , 1.        , 0.57348703, 0.67647059,\n",
       "        0.96428571],\n",
       "       [0.        , 0.45454545, 0.        , 0.        , 0.1       ,\n",
       "        0.125     , 0.        , 0.25      , 0.09798271, 0.23529412,\n",
       "        0.32142857],\n",
       "       [0.72222222, 0.54545455, 0.44444444, 0.        , 0.6       ,\n",
       "        0.25      , 0.25      , 0.5       , 0.58789625, 0.41176471,\n",
       "        0.35714286],\n",
       "       [0.72222222, 0.45454545, 0.33333333, 0.        , 0.3       ,\n",
       "        0.375     , 0.25      , 0.75      , 0.4351585 , 0.52941176,\n",
       "        0.67857143],\n",
       "       [0.        , 0.54545455, 0.88888889, 1.        , 0.5       ,\n",
       "        0.125     , 0.        , 0.25      , 0.03170029, 0.35294118,\n",
       "        0.35714286],\n",
       "       [0.22222222, 0.81818182, 0.44444444, 0.        , 0.6       ,\n",
       "        0.25      , 0.25      , 0.5       , 0.2795389 , 0.35294118,\n",
       "        0.32142857],\n",
       "       [0.        , 0.45454545, 0.02222222, 0.        , 0.1       ,\n",
       "        0.125     , 0.        , 0.28      , 0.09798271, 0.23529412,\n",
       "        0.5       ],\n",
       "       [0.44444444, 0.09090909, 0.55555556, 0.        , 1.        ,\n",
       "        0.5       , 1.        , 1.        , 1.        , 0.11764706,\n",
       "        0.        ],\n",
       "       [0.        , 0.63636364, 0.88888889, 0.        , 1.        ,\n",
       "        1.        , 0.        , 1.        , 0.22190202, 0.02941176,\n",
       "        0.19642857],\n",
       "       [0.44444444, 0.72727273, 0.77777778, 1.        , 0.8       ,\n",
       "        0.375     , 1.        , 0.75      , 0.83861671, 0.44117647,\n",
       "        0.14285714],\n",
       "       [0.72222222, 0.27272727, 0.44444444, 0.        , 0.1       ,\n",
       "        0.125     , 0.25      , 0.25      , 0.55043228, 0.58823529,\n",
       "        0.5       ],\n",
       "       [0.05555556, 0.63636364, 0.88888889, 0.        , 0.4       ,\n",
       "        0.        , 0.        , 0.        , 0.01152738, 0.41176471,\n",
       "        0.28571429],\n",
       "       [0.44444444, 0.09090909, 0.22222222, 1.        , 0.5       ,\n",
       "        0.125     , 1.        , 0.25      , 0.35446686, 0.23529412,\n",
       "        0.25      ],\n",
       "       [0.22222222, 0.81818182, 0.44444444, 1.        , 0.4       ,\n",
       "        0.5       , 0.25      , 1.        , 0.15273775, 0.73529412,\n",
       "        0.57142857],\n",
       "       [0.        , 0.63636364, 0.33333333, 1.        , 0.4       ,\n",
       "        0.5       , 0.        , 1.        , 0.0259366 , 0.61764706,\n",
       "        0.46428571],\n",
       "       [0.72222222, 0.        , 0.        , 1.        , 0.4       ,\n",
       "        0.5       , 0.25      , 1.        , 0.4092219 , 0.        ,\n",
       "        0.10714286],\n",
       "       [0.22222222, 0.72727273, 0.        , 1.        , 0.        ,\n",
       "        0.375     , 0.5       , 0.75      , 0.51585014, 0.14705882,\n",
       "        0.17857143],\n",
       "       [0.72222222, 0.18181818, 0.83333333, 1.        , 0.4       ,\n",
       "        0.        , 0.25      , 0.        , 0.49279539, 0.85294118,\n",
       "        0.85714286],\n",
       "       [0.        , 0.27272727, 0.66666667, 1.        , 0.8       ,\n",
       "        0.375     , 0.        , 0.75      , 0.13544669, 0.17647059,\n",
       "        0.03571429],\n",
       "       [0.        , 0.63636364, 0.88888889, 0.        , 0.4       ,\n",
       "        0.        , 0.        , 0.        , 0.01152738, 0.41176471,\n",
       "        0.28571429],\n",
       "       [0.22222222, 0.81818182, 1.        , 1.        , 0.        ,\n",
       "        0.        , 0.25      , 0.        , 0.30259366, 0.67647059,\n",
       "        0.64285714],\n",
       "       [1.        , 0.36363636, 0.55555556, 1.        , 0.2       ,\n",
       "        0.25      , 0.        , 0.5       , 0.74063401, 0.76470588,\n",
       "        1.        ],\n",
       "       [1.        , 0.18181818, 0.77777778, 0.        , 1.        ,\n",
       "        0.5       , 0.        , 1.        , 0.96829971, 0.5       ,\n",
       "        0.25      ]])"
      ]
     },
     "execution_count": 14,
     "metadata": {},
     "output_type": "execute_result"
    }
   ],
   "source": [
    "x_train\n"
   ]
  },
  {
   "cell_type": "code",
   "execution_count": 15,
   "metadata": {},
   "outputs": [
    {
     "data": {
      "text/plain": [
       "array([[1.        , 0.36363636, 0.55555556, 1.        , 0.        ,\n",
       "        0.        , 0.        , 0.        , 0.86455331, 0.70588235,\n",
       "        0.82142857],\n",
       "       [0.44444444, 0.27272727, 0.88888889, 0.        , 0.3       ,\n",
       "        0.375     , 1.        , 0.75      , 0.33717579, 0.88235294,\n",
       "        0.89285714],\n",
       "       [0.38888889, 0.63636364, 0.55555556, 1.        , 0.2       ,\n",
       "        0.25      , 0.25      , 0.5       , 0.22190202, 0.64705882,\n",
       "        0.42857143],\n",
       "       [0.44444444, 0.45454545, 0.77777778, 1.        , 1.        ,\n",
       "        0.375     , 1.        , 0.75      , 0.83861671, 0.44117647,\n",
       "        0.14285714],\n",
       "       [0.        , 0.31818182, 0.66666667, 1.        , 0.8       ,\n",
       "        0.625     , 0.        , 0.75      , 0.13544669, 0.17647059,\n",
       "        0.14285714],\n",
       "       [0.72222222, 0.54545455, 0.        , 1.        , 0.5       ,\n",
       "        0.125     , 0.25      , 0.25      , 0.3832853 , 0.44117647,\n",
       "        0.5       ],\n",
       "       [0.05555556, 0.81818182, 0.11111111, 1.        , 0.4       ,\n",
       "        0.        , 0.25      , 0.        , 0.1556196 , 0.97058824,\n",
       "        0.71428571],\n",
       "       [1.        , 0.27272727, 0.11111111, 0.        , 0.1       ,\n",
       "        0.125     , 0.        , 0.25      , 0.70317003, 0.29411765,\n",
       "        0.5       ],\n",
       "       [0.72222222, 0.54545455, 0.77777778, 0.        , 1.        ,\n",
       "        0.5       , 0.25      , 1.        , 0.87896254, 0.26470588,\n",
       "        0.10714286],\n",
       "       [0.        , 0.45454545, 0.88888889, 0.        , 1.        ,\n",
       "        0.5       , 0.        , 1.        , 0.20461095, 0.02941176,\n",
       "        0.10714286],\n",
       "       [0.72222222, 0.18181818, 0.77777778, 1.        , 0.        ,\n",
       "        0.        , 0.25      , 0.        , 0.49279539, 0.85294118,\n",
       "        0.85714286],\n",
       "       [1.        , 0.27272727, 0.77777778, 0.        , 0.4       ,\n",
       "        0.        , 0.        , 0.        , 0.55043228, 0.91176471,\n",
       "        1.03571429],\n",
       "       [0.72222222, 0.        , 0.44444444, 1.        , 0.8       ,\n",
       "        0.375     , 0.25      , 0.75      , 0.77233429, 0.14705882,\n",
       "        0.07142857],\n",
       "       [1.        , 0.54545455, 0.33333333, 0.        , 0.3       ,\n",
       "        0.375     , 0.        , 0.75      , 0.6426513 , 0.73529412,\n",
       "        1.        ]])"
      ]
     },
     "execution_count": 15,
     "metadata": {},
     "output_type": "execute_result"
    }
   ],
   "source": [
    "\n",
    "x_test=sc.transform(x_test)\n",
    "\n",
    "x_test"
   ]
  },
  {
   "cell_type": "markdown",
   "metadata": {},
   "source": [
    "# decision tree"
   ]
  },
  {
   "cell_type": "markdown",
   "metadata": {},
   "source": [
    "# training"
   ]
  },
  {
   "cell_type": "code",
   "execution_count": 16,
   "metadata": {},
   "outputs": [],
   "source": [
    "from sklearn.tree import DecisionTreeClassifier"
   ]
  },
  {
   "cell_type": "code",
   "execution_count": 17,
   "metadata": {},
   "outputs": [],
   "source": [
    "dt=DecisionTreeClassifier(criterion='entropy')"
   ]
  },
  {
   "cell_type": "code",
   "execution_count": 18,
   "metadata": {},
   "outputs": [
    {
     "data": {
      "text/plain": [
       "DecisionTreeClassifier(class_weight=None, criterion='entropy', max_depth=None,\n",
       "            max_features=None, max_leaf_nodes=None,\n",
       "            min_impurity_decrease=0.0, min_impurity_split=None,\n",
       "            min_samples_leaf=1, min_samples_split=2,\n",
       "            min_weight_fraction_leaf=0.0, presort=False, random_state=None,\n",
       "            splitter='best')"
      ]
     },
     "execution_count": 18,
     "metadata": {},
     "output_type": "execute_result"
    }
   ],
   "source": [
    "dt.fit(x_train,y_train)"
   ]
  },
  {
   "cell_type": "markdown",
   "metadata": {},
   "source": [
    "# predicting"
   ]
  },
  {
   "cell_type": "code",
   "execution_count": 19,
   "metadata": {},
   "outputs": [],
   "source": [
    "y_pred_dt=dt.predict(x_test)"
   ]
  },
  {
   "cell_type": "markdown",
   "metadata": {},
   "source": [
    "# accuracy"
   ]
  },
  {
   "cell_type": "code",
   "execution_count": 20,
   "metadata": {},
   "outputs": [],
   "source": [
    "import sklearn.metrics as metrics"
   ]
  },
  {
   "cell_type": "code",
   "execution_count": 21,
   "metadata": {},
   "outputs": [],
   "source": [
    "fpr,tpr,threshold=metrics.roc_curve(y_test,y_pred_dt)"
   ]
  },
  {
   "cell_type": "code",
   "execution_count": 22,
   "metadata": {},
   "outputs": [],
   "source": [
    "roc_auc_DT=metrics.auc(fpr,tpr)"
   ]
  },
  {
   "cell_type": "code",
   "execution_count": 23,
   "metadata": {},
   "outputs": [
    {
     "data": {
      "text/plain": [
       "0.9375"
      ]
     },
     "execution_count": 23,
     "metadata": {},
     "output_type": "execute_result"
    }
   ],
   "source": [
    "roc_auc_DT"
   ]
  },
  {
   "cell_type": "code",
   "execution_count": 24,
   "metadata": {},
   "outputs": [],
   "source": [
    "from sklearn.metrics import accuracy_score"
   ]
  },
  {
   "cell_type": "code",
   "execution_count": 25,
   "metadata": {},
   "outputs": [
    {
     "data": {
      "text/plain": [
       "0.9285714285714286"
      ]
     },
     "execution_count": 25,
     "metadata": {},
     "output_type": "execute_result"
    }
   ],
   "source": [
    "accuracy_score(y_test,y_pred_dt)"
   ]
  },
  {
   "cell_type": "code",
   "execution_count": 26,
   "metadata": {},
   "outputs": [
    {
     "data": {
      "text/plain": [
       "<matplotlib.legend.Legend at 0x9f74710>"
      ]
     },
     "execution_count": 26,
     "metadata": {},
     "output_type": "execute_result"
    },
    {
     "data": {
      "image/png": "[encoded data removed]",
      "text/plain": [
       "<Figure size 432x288 with 1 Axes>"
      ]
     },
     "metadata": {},
     "output_type": "display_data"
    }
   ],
   "source": [
    "plt.plot(fpr,tpr,label='AUC = %0.2f' % roc_auc_DT)\n",
    "plt.xlabel(\"fpr\")\n",
    "plt.ylabel(\"tpr\")\n",
    "plt.title(\"roc_curve\")\n",
    "plt.legend()"
   ]
  },
  {
   "cell_type": "code",
   "execution_count": null,
   "metadata": {},
   "outputs": [],
   "source": []
  },
  {
   "cell_type": "code",
   "execution_count": null,
   "metadata": {},
   "outputs": [],
   "source": []
  }
 ],
 "metadata": {
  "kernelspec": {
   "display_name": "Python 3",
   "language": "python",
   "name": "python3"
  },
  "language_info": {
   "codemirror_mode": {
    "name": "ipython",
    "version": 3
   },
   "file_extension": ".py",
   "mimetype": "text/x-python",
   "name": "python",
   "nbconvert_exporter": "python",
   "pygments_lexer": "ipython3",
   "version": "3.6.5"
  }
 },
 "nbformat": 4,
 "nbformat_minor": 2
}
