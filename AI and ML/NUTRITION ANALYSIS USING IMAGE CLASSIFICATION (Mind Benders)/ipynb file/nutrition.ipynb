{
 "cells": [
  {
   "cell_type": "code",
   "execution_count": 1,
   "metadata": {},
   "outputs": [
    {
     "name": "stderr",
     "output_type": "stream",
     "text": [
      "C:\\ProgramData\\Anaconda3\\lib\\site-packages\\h5py\\__init__.py:36: FutureWarning: Conversion of the second argument of issubdtype from `float` to `np.floating` is deprecated. In future, it will be treated as `np.float64 == np.dtype(float).type`.\n",
      "  from ._conv import register_converters as _register_converters\n",
      "Using TensorFlow backend.\n"
     ]
    }
   ],
   "source": [
    "from keras.models import Sequential\n",
    "from keras.layers import Dense\n",
    "from keras.layers import Conv2D\n",
    "from keras.layers import MaxPooling2D\n",
    "from keras.layers import Flatten"
   ]
  },
  {
   "cell_type": "code",
   "execution_count": 2,
   "metadata": {},
   "outputs": [],
   "source": [
    "cnn_model=Sequential()"
   ]
  },
  {
   "cell_type": "code",
   "execution_count": 3,
   "metadata": {},
   "outputs": [
    {
     "name": "stdout",
     "output_type": "stream",
     "text": [
      "WARNING:tensorflow:From C:\\ProgramData\\Anaconda3\\lib\\site-packages\\tensorflow\\python\\framework\\op_def_library.py:263: colocate_with (from tensorflow.python.framework.ops) is deprecated and will be removed in a future version.\n",
      "Instructions for updating:\n",
      "Colocations handled automatically by placer.\n"
     ]
    },
    {
     "name": "stderr",
     "output_type": "stream",
     "text": [
      "C:\\ProgramData\\Anaconda3\\lib\\site-packages\\ipykernel_launcher.py:1: UserWarning: Update your `Conv2D` call to the Keras 2 API: `Conv2D(32, (3, 3), input_shape=(64, 64, 3..., activation=\"relu\")`\n",
      "  \"\"\"Entry point for launching an IPython kernel.\n"
     ]
    }
   ],
   "source": [
    "cnn_model.add(Conv2D(32,3,3,input_shape=(64,64,3),activation=\"relu\"))"
   ]
  },
  {
   "cell_type": "code",
   "execution_count": 4,
   "metadata": {},
   "outputs": [
    {
     "name": "stderr",
     "output_type": "stream",
     "text": [
      "C:\\ProgramData\\Anaconda3\\lib\\site-packages\\ipykernel_launcher.py:2: UserWarning: Update your `Conv2D` call to the Keras 2 API: `Conv2D(64, (3, 3), activation=\"relu\")`\n",
      "  \n"
     ]
    }
   ],
   "source": [
    "cnn_model.add(MaxPooling2D(pool_size=(2,2)))\n",
    "cnn_model.add(Conv2D(64,3,3,activation=\"relu\"))\n",
    "cnn_model.add(MaxPooling2D(pool_size=(2,2)))"
   ]
  },
  {
   "cell_type": "code",
   "execution_count": 5,
   "metadata": {},
   "outputs": [],
   "source": [
    "cnn_model.add(Flatten())"
   ]
  },
  {
   "cell_type": "code",
   "execution_count": 6,
   "metadata": {},
   "outputs": [
    {
     "name": "stderr",
     "output_type": "stream",
     "text": [
      "C:\\ProgramData\\Anaconda3\\lib\\site-packages\\ipykernel_launcher.py:1: UserWarning: Update your `Dense` call to the Keras 2 API: `Dense(activation=\"relu\", units=250, kernel_initializer=\"random_uniform\")`\n",
      "  \"\"\"Entry point for launching an IPython kernel.\n"
     ]
    }
   ],
   "source": [
    "cnn_model.add(Dense(init=\"random_uniform\",activation=\"relu\",output_dim=250))"
   ]
  },
  {
   "cell_type": "code",
   "execution_count": 7,
   "metadata": {},
   "outputs": [
    {
     "name": "stderr",
     "output_type": "stream",
     "text": [
      "C:\\ProgramData\\Anaconda3\\lib\\site-packages\\ipykernel_launcher.py:1: UserWarning: Update your `Dense` call to the Keras 2 API: `Dense(activation=\"softmax\", units=4, kernel_initializer=\"random_uniform\")`\n",
      "  \"\"\"Entry point for launching an IPython kernel.\n"
     ]
    }
   ],
   "source": [
    "cnn_model.add(Dense(init=\"random_uniform\",activation=\"softmax\",output_dim=4))"
   ]
  },
  {
   "cell_type": "code",
   "execution_count": 8,
   "metadata": {},
   "outputs": [],
   "source": [
    "cnn_model.compile(optimizer=\"adam\",loss=\"categorical_crossentropy\",metrics=['accuracy'])"
   ]
  },
  {
   "cell_type": "code",
   "execution_count": 9,
   "metadata": {},
   "outputs": [],
   "source": [
    "from keras.preprocessing.image import ImageDataGenerator\n",
    "train_datagen = ImageDataGenerator(\n",
    "        rescale=1./255,\n",
    "        shear_range=0.2,\n",
    "        zoom_range=0.2,\n",
    "        horizontal_flip=True)"
   ]
  },
  {
   "cell_type": "code",
   "execution_count": 10,
   "metadata": {},
   "outputs": [],
   "source": [
    "test_datagen = ImageDataGenerator(rescale=1./255)"
   ]
  },
  {
   "cell_type": "code",
   "execution_count": 11,
   "metadata": {},
   "outputs": [
    {
     "name": "stdout",
     "output_type": "stream",
     "text": [
      "Found 600 images belonging to 4 classes.\n"
     ]
    }
   ],
   "source": [
    "x_train = train_datagen.flow_from_directory(\n",
    "        r'C:\\Users\\test01\\Downloads\\Fruits\\training_sets',\n",
    "        target_size=(64,64),\n",
    "        batch_size=32,\n",
    "        class_mode='categorical')"
   ]
  },
  {
   "cell_type": "code",
   "execution_count": 12,
   "metadata": {},
   "outputs": [
    {
     "name": "stdout",
     "output_type": "stream",
     "text": [
      "Found 200 images belonging to 4 classes.\n"
     ]
    }
   ],
   "source": [
    "x_test = test_datagen.flow_from_directory(\n",
    "        r'C:\\Users\\test01\\Downloads\\Fruits\\test_sets',\n",
    "        target_size=(64,64),\n",
    "        batch_size=32,\n",
    "        class_mode='categorical')"
   ]
  },
  {
   "cell_type": "code",
   "execution_count": 13,
   "metadata": {},
   "outputs": [
    {
     "data": {
      "text/plain": [
       "{'apple fruit': 0, 'banana': 1, 'kiwi fruit': 2, 'strawberry fruit': 3}"
      ]
     },
     "execution_count": 13,
     "metadata": {},
     "output_type": "execute_result"
    }
   ],
   "source": [
    "x_train.class_indices"
   ]
  },
  {
   "cell_type": "code",
   "execution_count": 14,
   "metadata": {},
   "outputs": [
    {
     "name": "stdout",
     "output_type": "stream",
     "text": [
      "WARNING:tensorflow:From C:\\ProgramData\\Anaconda3\\lib\\site-packages\\tensorflow\\python\\ops\\math_ops.py:3066: to_int32 (from tensorflow.python.ops.math_ops) is deprecated and will be removed in a future version.\n",
      "Instructions for updating:\n",
      "Use tf.cast instead.\n",
      "Epoch 1/20\n",
      "20/20 [==============================] - 5s 243ms/step - loss: 1.2052 - acc: 0.4365 - val_loss: 0.9140 - val_acc: 0.5417\n",
      "Epoch 2/20\n",
      "20/20 [==============================] - 4s 208ms/step - loss: 0.9104 - acc: 0.5665 - val_loss: 0.9115 - val_acc: 0.5774\n",
      "Epoch 3/20\n",
      "20/20 [==============================] - 4s 206ms/step - loss: 0.7826 - acc: 0.6453 - val_loss: 0.6968 - val_acc: 0.7024\n",
      "Epoch 4/20\n",
      "20/20 [==============================] - 4s 208ms/step - loss: 0.6773 - acc: 0.7020 - val_loss: 0.6362 - val_acc: 0.7381\n",
      "Epoch 5/20\n",
      "20/20 [==============================] - 4s 208ms/step - loss: 0.6737 - acc: 0.6922 - val_loss: 0.7341 - val_acc: 0.6845\n",
      "Epoch 6/20\n",
      "20/20 [==============================] - 4s 207ms/step - loss: 0.5603 - acc: 0.7979 - val_loss: 0.4169 - val_acc: 0.8393\n",
      "Epoch 7/20\n",
      "20/20 [==============================] - 4s 216ms/step - loss: 0.6148 - acc: 0.7375 - val_loss: 0.5103 - val_acc: 0.7917\n",
      "Epoch 8/20\n",
      "20/20 [==============================] - 4s 212ms/step - loss: 0.5893 - acc: 0.7640 - val_loss: 0.4722 - val_acc: 0.8594\n",
      "Epoch 9/20\n",
      "20/20 [==============================] - 4s 211ms/step - loss: 0.4347 - acc: 0.8354 - val_loss: 0.3639 - val_acc: 0.8690\n",
      "Epoch 10/20\n",
      "20/20 [==============================] - 4s 210ms/step - loss: 0.3963 - acc: 0.8365 - val_loss: 0.4299 - val_acc: 0.8333\n",
      "Epoch 11/20\n",
      "20/20 [==============================] - 4s 209ms/step - loss: 0.4051 - acc: 0.8433 - val_loss: 0.3479 - val_acc: 0.8214\n",
      "Epoch 12/20\n",
      "20/20 [==============================] - 4s 209ms/step - loss: 0.3921 - acc: 0.8490 - val_loss: 0.2872 - val_acc: 0.8988\n",
      "Epoch 13/20\n",
      "20/20 [==============================] - 4s 207ms/step - loss: 0.2880 - acc: 0.8943 - val_loss: 0.2280 - val_acc: 0.8929\n",
      "Epoch 14/20\n",
      "20/20 [==============================] - 4s 210ms/step - loss: 0.3233 - acc: 0.8755 - val_loss: 0.2281 - val_acc: 0.9167\n",
      "Epoch 15/20\n",
      "20/20 [==============================] - 4s 213ms/step - loss: 0.2755 - acc: 0.9042 - val_loss: 0.2563 - val_acc: 0.9062\n",
      "Epoch 16/20\n",
      "20/20 [==============================] - 4s 212ms/step - loss: 0.2349 - acc: 0.9135 - val_loss: 0.1666 - val_acc: 0.9405\n",
      "Epoch 17/20\n",
      "20/20 [==============================] - 4s 211ms/step - loss: 0.1946 - acc: 0.9333 - val_loss: 0.1484 - val_acc: 0.9405\n",
      "Epoch 18/20\n",
      "20/20 [==============================] - 4s 210ms/step - loss: 0.2087 - acc: 0.9302 - val_loss: 0.1538 - val_acc: 0.9524\n",
      "Epoch 19/20\n",
      "20/20 [==============================] - 4s 209ms/step - loss: 0.1609 - acc: 0.9552 - val_loss: 0.1496 - val_acc: 0.9643\n",
      "Epoch 20/20\n",
      "20/20 [==============================] - 4s 210ms/step - loss: 0.1595 - acc: 0.9443 - val_loss: 0.1044 - val_acc: 0.9643\n"
     ]
    },
    {
     "data": {
      "text/plain": [
       "<keras.callbacks.History at 0xe344f28>"
      ]
     },
     "execution_count": 14,
     "metadata": {},
     "output_type": "execute_result"
    }
   ],
   "source": [
    "cnn_model.fit_generator(\n",
    "        x_train,\n",
    "        steps_per_epoch=20,\n",
    "        epochs=20,\n",
    "        validation_data=x_test,\n",
    "        validation_steps=6)"
   ]
  },
  {
   "cell_type": "code",
   "execution_count": 15,
   "metadata": {},
   "outputs": [],
   "source": [
    "cnn_model.save(\"project.h5\")"
   ]
  },
  {
   "cell_type": "code",
   "execution_count": null,
   "metadata": {},
   "outputs": [],
   "source": []
  },
  {
   "cell_type": "code",
   "execution_count": null,
   "metadata": {},
   "outputs": [],
   "source": []
  }
 ],
 "metadata": {
  "kernelspec": {
   "display_name": "Python 3",
   "language": "python",
   "name": "python3"
  },
  "language_info": {
   "codemirror_mode": {
    "name": "ipython",
    "version": 3
   },
   "file_extension": ".py",
   "mimetype": "text/x-python",
   "name": "python",
   "nbconvert_exporter": "python",
   "pygments_lexer": "ipython3",
   "version": "3.6.5"
  }
 },
 "nbformat": 4,
 "nbformat_minor": 2
}
