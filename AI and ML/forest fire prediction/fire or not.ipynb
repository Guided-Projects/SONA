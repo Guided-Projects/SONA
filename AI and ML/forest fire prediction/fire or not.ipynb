{
 "cells": [
  {
   "cell_type": "markdown",
   "metadata": {},
   "source": [
    "# Step 1: Import Required Libraries"
   ]
  },
  {
   "cell_type": "code",
   "execution_count": 1,
   "metadata": {},
   "outputs": [
    {
     "name": "stderr",
     "output_type": "stream",
     "text": [
      "C:\\ProgramData\\Anaconda3\\lib\\site-packages\\h5py\\__init__.py:36: FutureWarning: Conversion of the second argument of issubdtype from `float` to `np.floating` is deprecated. In future, it will be treated as `np.float64 == np.dtype(float).type`.\n",
      "  from ._conv import register_converters as _register_converters\n",
      "Using TensorFlow backend.\n"
     ]
    }
   ],
   "source": [
    "from keras.models import Sequential\n",
    "from keras.layers import Dense\n",
    "from keras.layers import Conv2D\n",
    "from keras.layers import MaxPooling2D\n",
    "from keras.layers import Flatten"
   ]
  },
  {
   "cell_type": "markdown",
   "metadata": {},
   "source": [
    "# step 2: Initialise the cnn model"
   ]
  },
  {
   "cell_type": "code",
   "execution_count": 2,
   "metadata": {},
   "outputs": [],
   "source": [
    "cnn_model=Sequential()"
   ]
  },
  {
   "cell_type": "markdown",
   "metadata": {},
   "source": [
    "# Step 3: Add Conv Layer"
   ]
  },
  {
   "cell_type": "code",
   "execution_count": 3,
   "metadata": {},
   "outputs": [
    {
     "name": "stderr",
     "output_type": "stream",
     "text": [
      "C:\\ProgramData\\Anaconda3\\lib\\site-packages\\ipykernel_launcher.py:1: UserWarning: Update your `Conv2D` call to the Keras 2 API: `Conv2D(32, (3, 3), input_shape=(64, 64, 3..., activation=\"relu\")`\n",
      "  \"\"\"Entry point for launching an IPython kernel.\n"
     ]
    }
   ],
   "source": [
    "cnn_model.add(Conv2D(32,3,3,input_shape=(64,64,3),activation=\"relu\"))"
   ]
  },
  {
   "cell_type": "markdown",
   "metadata": {},
   "source": [
    "# step 4: Add Pooling Layer\n"
   ]
  },
  {
   "cell_type": "code",
   "execution_count": 4,
   "metadata": {},
   "outputs": [],
   "source": [
    "cnn_model.add(MaxPooling2D(pool_size=(2,2)))"
   ]
  },
  {
   "cell_type": "markdown",
   "metadata": {},
   "source": [
    "# step 5 : Add Flatten Layer"
   ]
  },
  {
   "cell_type": "code",
   "execution_count": 5,
   "metadata": {},
   "outputs": [],
   "source": [
    "cnn_model.add(Flatten())"
   ]
  },
  {
   "cell_type": "markdown",
   "metadata": {},
   "source": [
    "# Full Connection\n"
   ]
  },
  {
   "cell_type": "markdown",
   "metadata": {},
   "source": [
    "# step 6: Add Hidden Layer"
   ]
  },
  {
   "cell_type": "code",
   "execution_count": 6,
   "metadata": {},
   "outputs": [
    {
     "name": "stderr",
     "output_type": "stream",
     "text": [
      "C:\\ProgramData\\Anaconda3\\lib\\site-packages\\ipykernel_launcher.py:1: UserWarning: Update your `Dense` call to the Keras 2 API: `Dense(activation=\"relu\", units=120, kernel_initializer=\"random_uniform\")`\n",
      "  \"\"\"Entry point for launching an IPython kernel.\n"
     ]
    }
   ],
   "source": [
    "cnn_model.add(Dense(init=\"random_uniform\",activation=\"relu\",output_dim=120))"
   ]
  },
  {
   "cell_type": "code",
   "execution_count": null,
   "metadata": {},
   "outputs": [],
   "source": []
  },
  {
   "cell_type": "markdown",
   "metadata": {},
   "source": [
    "# add output layer"
   ]
  },
  {
   "cell_type": "code",
   "execution_count": 7,
   "metadata": {},
   "outputs": [
    {
     "name": "stderr",
     "output_type": "stream",
     "text": [
      "C:\\ProgramData\\Anaconda3\\lib\\site-packages\\ipykernel_launcher.py:1: UserWarning: Update your `Dense` call to the Keras 2 API: `Dense(activation=\"sigmoid\", units=1, kernel_initializer=\"random_uniform\")`\n",
      "  \"\"\"Entry point for launching an IPython kernel.\n"
     ]
    }
   ],
   "source": [
    "cnn_model.add(Dense(init=\"random_uniform\",activation=\"sigmoid\",output_dim=1))"
   ]
  },
  {
   "cell_type": "markdown",
   "metadata": {},
   "source": [
    "# compile the model"
   ]
  },
  {
   "cell_type": "code",
   "execution_count": 8,
   "metadata": {},
   "outputs": [],
   "source": [
    "cnn_model.compile(optimizer=\"adam\",loss=\"binary_crossentropy\",metrics=['accuracy'])"
   ]
  },
  {
   "cell_type": "code",
   "execution_count": 9,
   "metadata": {},
   "outputs": [],
   "source": [
    "from keras.preprocessing.image import ImageDataGenerator\n",
    "train_datagen = ImageDataGenerator(\n",
    "        rescale=1./255,\n",
    "        shear_range=0.2,\n",
    "        zoom_range=0.2,\n",
    "        horizontal_flip=True)"
   ]
  },
  {
   "cell_type": "code",
   "execution_count": 10,
   "metadata": {},
   "outputs": [],
   "source": [
    "test_datagen=ImageDataGenerator(rescale=1./255)\n"
   ]
  },
  {
   "cell_type": "code",
   "execution_count": 11,
   "metadata": {},
   "outputs": [
    {
     "name": "stdout",
     "output_type": "stream",
     "text": [
      "Found 297 images belonging to 2 classes.\n"
     ]
    }
   ],
   "source": [
    "x_train = train_datagen.flow_from_directory(\n",
    "        'dataset/training_set',\n",
    "        target_size=(64, 64),\n",
    "        batch_size=32,\n",
    "        class_mode='binary')"
   ]
  },
  {
   "cell_type": "code",
   "execution_count": 12,
   "metadata": {},
   "outputs": [
    {
     "name": "stdout",
     "output_type": "stream",
     "text": [
      "Found 47 images belonging to 2 classes.\n"
     ]
    }
   ],
   "source": [
    "x_test = test_datagen.flow_from_directory(\n",
    "        'dataset/test_set',\n",
    "        target_size=(64, 64),\n",
    "        batch_size=32,\n",
    "        class_mode='binary')"
   ]
  },
  {
   "cell_type": "code",
   "execution_count": 13,
   "metadata": {},
   "outputs": [
    {
     "data": {
      "text/plain": [
       "{'fire': 0, 'forest': 1}"
      ]
     },
     "execution_count": 13,
     "metadata": {},
     "output_type": "execute_result"
    }
   ],
   "source": [
    "x_train.class_indices"
   ]
  },
  {
   "cell_type": "code",
   "execution_count": 14,
   "metadata": {},
   "outputs": [
    {
     "name": "stdout",
     "output_type": "stream",
     "text": [
      "Epoch 1/32\n",
      "9/9 [==============================] - 2s 200ms/step - loss: 0.6739 - acc: 0.6058 - val_loss: 0.9570 - val_acc: 0.4681\n",
      "Epoch 2/32\n",
      "9/9 [==============================] - 1s 161ms/step - loss: 0.4946 - acc: 0.7214 - val_loss: 0.4869 - val_acc: 0.7021\n",
      "Epoch 3/32\n",
      "9/9 [==============================] - 1s 153ms/step - loss: 0.3485 - acc: 0.8785 - val_loss: 0.4209 - val_acc: 0.7234\n",
      "Epoch 4/32\n",
      "9/9 [==============================] - 1s 134ms/step - loss: 0.2207 - acc: 0.9389 - val_loss: 0.3150 - val_acc: 0.8723\n",
      "Epoch 5/32\n",
      "9/9 [==============================] - 1s 140ms/step - loss: 0.2469 - acc: 0.8949 - val_loss: 0.2132 - val_acc: 0.8936\n",
      "Epoch 6/32\n",
      "9/9 [==============================] - 1s 142ms/step - loss: 0.2184 - acc: 0.9159 - val_loss: 0.2782 - val_acc: 0.9362\n",
      "Epoch 7/32\n",
      "9/9 [==============================] - 1s 139ms/step - loss: 0.2439 - acc: 0.9010 - val_loss: 0.4357 - val_acc: 0.8085\n",
      "Epoch 8/32\n",
      "9/9 [==============================] - 1s 147ms/step - loss: 0.1671 - acc: 0.9306 - val_loss: 0.3448 - val_acc: 0.8298\n",
      "Epoch 9/32\n",
      "9/9 [==============================] - 1s 147ms/step - loss: 0.2029 - acc: 0.9115 - val_loss: 0.2365 - val_acc: 0.9149\n",
      "Epoch 10/32\n",
      "9/9 [==============================] - 1s 137ms/step - loss: 0.2083 - acc: 0.9159 - val_loss: 0.1177 - val_acc: 0.9574\n",
      "Epoch 11/32\n",
      "9/9 [==============================] - 1s 149ms/step - loss: 0.2165 - acc: 0.8984 - val_loss: 0.4294 - val_acc: 0.7872\n",
      "Epoch 12/32\n",
      "9/9 [==============================] - 1s 141ms/step - loss: 0.2080 - acc: 0.9124 - val_loss: 0.5812 - val_acc: 0.7447\n",
      "Epoch 13/32\n",
      "9/9 [==============================] - 1s 139ms/step - loss: 0.1783 - acc: 0.9194 - val_loss: 0.1960 - val_acc: 0.9149\n",
      "Epoch 14/32\n",
      "9/9 [==============================] - 1s 142ms/step - loss: 0.1941 - acc: 0.9325 - val_loss: 0.1870 - val_acc: 0.9149\n",
      "Epoch 15/32\n",
      "9/9 [==============================] - 1s 153ms/step - loss: 0.1476 - acc: 0.9410 - val_loss: 0.2818 - val_acc: 0.8085\n",
      "Epoch 16/32\n",
      "9/9 [==============================] - 1s 145ms/step - loss: 0.1577 - acc: 0.9354 - val_loss: 0.3404 - val_acc: 0.8085\n",
      "Epoch 17/32\n",
      "9/9 [==============================] - 1s 154ms/step - loss: 0.1360 - acc: 0.9479 - val_loss: 0.2113 - val_acc: 0.8511\n",
      "Epoch 18/32\n",
      "9/9 [==============================] - 1s 146ms/step - loss: 0.1380 - acc: 0.9370 - val_loss: 0.1443 - val_acc: 0.9574\n",
      "Epoch 19/32\n",
      "9/9 [==============================] - 1s 147ms/step - loss: 0.1381 - acc: 0.9360 - val_loss: 0.2261 - val_acc: 0.8298\n",
      "Epoch 20/32\n",
      "9/9 [==============================] - 1s 138ms/step - loss: 0.1600 - acc: 0.9535 - val_loss: 0.7121 - val_acc: 0.7447\n",
      "Epoch 21/32\n",
      "9/9 [==============================] - 1s 140ms/step - loss: 0.2595 - acc: 0.8965 - val_loss: 0.3297 - val_acc: 0.8085\n",
      "Epoch 22/32\n",
      "9/9 [==============================] - 1s 148ms/step - loss: 0.1702 - acc: 0.9236 - val_loss: 0.1373 - val_acc: 0.9362\n",
      "Epoch 23/32\n",
      "9/9 [==============================] - 1s 140ms/step - loss: 0.2793 - acc: 0.8495 - val_loss: 0.5590 - val_acc: 0.7447\n",
      "Epoch 24/32\n",
      "9/9 [==============================] - 1s 156ms/step - loss: 0.1801 - acc: 0.9194 - val_loss: 0.1840 - val_acc: 0.9149\n",
      "Epoch 25/32\n",
      "9/9 [==============================] - 1s 147ms/step - loss: 0.1478 - acc: 0.9375 - val_loss: 0.1740 - val_acc: 0.9362\n",
      "Epoch 26/32\n",
      "9/9 [==============================] - 1s 144ms/step - loss: 0.1778 - acc: 0.9245 - val_loss: 0.5985 - val_acc: 0.7660\n",
      "Epoch 27/32\n",
      "9/9 [==============================] - 1s 143ms/step - loss: 0.1336 - acc: 0.9615 - val_loss: 0.3159 - val_acc: 0.8085\n",
      "Epoch 28/32\n",
      "9/9 [==============================] - 1s 150ms/step - loss: 0.1148 - acc: 0.9650 - val_loss: 0.2805 - val_acc: 0.8298\n",
      "Epoch 29/32\n",
      "9/9 [==============================] - 1s 143ms/step - loss: 0.1240 - acc: 0.9580 - val_loss: 0.1063 - val_acc: 0.9574\n",
      "Epoch 30/32\n",
      "9/9 [==============================] - 1s 139ms/step - loss: 0.1040 - acc: 0.9650 - val_loss: 0.2994 - val_acc: 0.8298\n",
      "Epoch 31/32\n",
      "9/9 [==============================] - 1s 136ms/step - loss: 0.1278 - acc: 0.9475 - val_loss: 0.4222 - val_acc: 0.7872\n",
      "Epoch 32/32\n",
      "9/9 [==============================] - 1s 143ms/step - loss: 0.1095 - acc: 0.9570 - val_loss: 0.2332 - val_acc: 0.8723\n"
     ]
    },
    {
     "data": {
      "text/plain": [
       "<keras.callbacks.History at 0xdd30828>"
      ]
     },
     "execution_count": 14,
     "metadata": {},
     "output_type": "execute_result"
    }
   ],
   "source": [
    "cnn_model.fit_generator(\n",
    "        x_train,\n",
    "        steps_per_epoch=9,\n",
    "        epochs=32,\n",
    "        validation_data=x_test,\n",
    "        validation_steps=1.4)"
   ]
  },
  {
   "cell_type": "code",
   "execution_count": 15,
   "metadata": {},
   "outputs": [],
   "source": [
    "cnn_model.save(\"mymodel.h5\")"
   ]
  },
  {
   "cell_type": "code",
   "execution_count": null,
   "metadata": {},
   "outputs": [],
   "source": []
  }
 ],
 "metadata": {
  "kernelspec": {
   "display_name": "Python 3",
   "language": "python",
   "name": "python3"
  },
  "language_info": {
   "codemirror_mode": {
    "name": "ipython",
    "version": 3
   },
   "file_extension": ".py",
   "mimetype": "text/x-python",
   "name": "python",
   "nbconvert_exporter": "python",
   "pygments_lexer": "ipython3",
   "version": "3.6.5"
  }
 },
 "nbformat": 4,
 "nbformat_minor": 2
}
